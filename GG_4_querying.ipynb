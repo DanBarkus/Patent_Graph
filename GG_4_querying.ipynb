{
 "cells": [
  {
   "cell_type": "markdown",
   "metadata": {},
   "source": [
    "# Querying our Graph\n",
    "\n",
    "We did all the hard work to build this graph, let's get to the fun part of Querying it. We're going to write some simple queries first to build up our knowledge, then jump into some more complex stuff."
   ]
  },
  {
   "cell_type": "markdown",
   "metadata": {},
   "source": [
    "## Query Anatomy\n",
    "\n",
    "Before we can get into the functional parts of a query, we need to go over what all the boilerplate stuff looks like. Here is a sample empty query.\n",
    "\n",
    "```\n",
    "CREATE QUERY sample_query() FOR GRAPH Patents {\n",
    "    PRINT \"Hello World\";\n",
    "}\n",
    "```\n",
    "\n",
    "Note that we have a CREATE statement defining what we're creating (QUERY). After that is the name of the query `sample_query`, then within the parenthesis would be any inputs that we have for our query. A query does not need inputs, so we'll leave that empty for the sample and get to those later on. Next we specify which graph this query is referencing with the `FOR GRAPH Patents` segment. \n",
    "\n",
    "A Query can have as many PRINT statements as desired and up to a single RETURN statement. Anything specified in a PRINT statement will be contained in the JSON output of your query. Values in the RETURN do not get output in the JSON, but can be referenced by other queries if the query is being called as a sub-query. Again, we'll get to those more advanced use cases later."
   ]
  },
  {
   "cell_type": "markdown",
   "metadata": {},
   "source": [
    "### Creating a Query\n",
    "\n",
    "We can either create a query through the GraphStudio interface, via the REST interface, or through a connector like pyTigerGraph. I'm going to be using pyTigerGraph to create this query."
   ]
  },
  {
   "cell_type": "code",
   "execution_count": 1,
   "metadata": {},
   "outputs": [
    {
     "name": "stdout",
     "output_type": "stream",
     "text": [
      "/bin/bash: pip: command not found\n"
     ]
    }
   ],
   "source": [
    "!pip install pyTigerGraph -q"
   ]
  },
  {
   "cell_type": "code",
   "execution_count": null,
   "metadata": {},
   "outputs": [],
   "source": [
    "import pyTigerGraph as tg\n",
    "\n",
    "# connection parameters\n",
    "# hostName is the TigerGraph solution URL\n",
    "hostName = \"https://patent-free.i.tgcloud.io\"\n",
    "graphName = \"Patents\"\n",
    "userName = \"tigergraph\"\n",
    "password = \"tigergraph\"\n",
    "\n",
    "# establish the connection to the TigerGraph Solution\n",
    "conn = tg.TigerGraphConnection(host=hostName, username=userName, password=password)\n",
    "\n",
    "# set the name of the graph that we want to connect to\n",
    "conn.graphname = graphName\n",
    "\n",
    "# create a secret\n",
    "secret = conn.createSecret()\n",
    "# use the secret to get a token\n",
    "authToken = conn.getToken(secret)[0]\n",
    "\n",
    "# connect to graph with token\n",
    "conn = tg.TigerGraphConnection(host=hostName, username=userName, password=password, graphname=graphName, apiToken=authToken)"
   ]
  },
  {
   "cell_type": "markdown",
   "metadata": {},
   "source": [
    "#### Installing a Query\n",
    "\n",
    "This next cell will create and install our query. Installing a query takes about 1-2 minutes and will create an endpoint that we can use to call the installed query. We can also run queries without installing them first. This is called **Interpreted Mode**. There are some limitations to running a query in **Interpreted Mode**, but those are typically more complex operations that we don't have to worry about yet.\n",
    "\n",
    "These first two cells with CREATE, INSTALL, and RUN the query."
   ]
  },
  {
   "cell_type": "code",
   "execution_count": 6,
   "metadata": {},
   "outputs": [
    {
     "data": {
      "text/plain": [
       "'Using graph \\'Patents\\'\\nStart installing queries, about 1 minute ...\\nsample_query query: curl -X GET \\'https://127.0.0.1:9000/query/Patents/sample_query\\'. Add -H \"Authorization: Bearer TOKEN\" if authentication is enabled.\\nSelect \\'m1\\' as compile server, now connecting ...\\nNode \\'m1\\' is prepared as compile server.\\n\\nQuery installation finished.'"
      ]
     },
     "execution_count": 6,
     "metadata": {},
     "output_type": "execute_result"
    }
   ],
   "source": [
    "conn.gsql(\"\"\"\n",
    "USE GRAPH Patents\n",
    "CREATE QUERY sample_query() FOR GRAPH Patents {\n",
    "    PRINT \"Hello World\";\n",
    "}\n",
    "\"\"\")\n",
    "\n",
    "conn.gsql(\"\"\"\n",
    "USE GRAPH Patents\n",
    "INSTALL QUERY sample_query\n",
    "\"\"\")"
   ]
  },
  {
   "cell_type": "code",
   "execution_count": 7,
   "metadata": {},
   "outputs": [
    {
     "data": {
      "text/plain": [
       "[{'\"Hello World\"': 'Hello World'}]"
      ]
     },
     "execution_count": 7,
     "metadata": {},
     "output_type": "execute_result"
    }
   ],
   "source": [
    "conn.runInstalledQuery(\"sample_query\")"
   ]
  },
  {
   "cell_type": "markdown",
   "metadata": {},
   "source": [
    "We can see that the output of our query is that of our PRINT statement. The print statement will also output the name of the variable that is being printed as the KEY in the JSON. In the case of this query, we're not printing a variable, but a string directly. This will cause the KEY to assume the same value as the string being printed."
   ]
  },
  {
   "cell_type": "markdown",
   "metadata": {},
   "source": [
    "#### Running an Interpreted Query\n",
    "\n",
    "If you just want to quickly try out a query without waiting for it to install, then you can run it as an Interpreted query. The limitations of an Interpreted query are documented [here](https://docs.tigergraph.com/gsql-ref/current/querying/appendix-query/interpreted-gsql-limitations). Here's how we run an Interpreted query from pyTigerGraph."
   ]
  },
  {
   "cell_type": "code",
   "execution_count": 12,
   "metadata": {},
   "outputs": [
    {
     "data": {
      "text/plain": [
       "[{'Output': 'Hello World'}]"
      ]
     },
     "execution_count": 12,
     "metadata": {},
     "output_type": "execute_result"
    }
   ],
   "source": [
    "conn.runInterpretedQuery(\"\"\"\n",
    "INTERPRET QUERY interpret_query() FOR GRAPH Patents {\n",
    "    PRINT \"Hello World\" AS Output;\n",
    "}\n",
    "\"\"\")"
   ]
  },
  {
   "cell_type": "markdown",
   "metadata": {},
   "source": [
    "Note that we have a pyTigerGraph function specifically for running interpreted queries. The only change that needs to be made to the query itself is changing `CREATE QUERY` to `INTERPRET QUERY`.\n",
    "\n",
    "I also added an `AS` clause to the print line to show that you can change the JSON key of any PRINT statement."
   ]
  },
  {
   "cell_type": "markdown",
   "metadata": {},
   "source": [
    "We're going to start off by reviewing the Operations that we can utilize in our SELECT statement and the order that they are executed in. This chart shows those operations and their order (top to bottom), I'll break down into detail what each operation is and does as it comes up, so for now this image is to serve as a reference.\n",
    "\n",
    "<img src=\"images/select_statement_data_flow.png\" width=\"500px\" />"
   ]
  },
  {
   "cell_type": "markdown",
   "metadata": {},
   "source": [
    "## Select Statement\n",
    "\n",
    "**Pattern:**\n",
    "```\n",
    "result_vertex_set = SELECT alias_vertex_set\n",
    "```\n",
    "\n",
    "**Example:**\n",
    "```\n",
    "result = SELECT s\n",
    "```\n",
    "\n",
    "On it's own, the SELECT doesn't do much but there is one important thing to note. Both the **return** and the **alias** are VERTEX_SETs. These are sets meaning that they can only contain unique values. This isn't the most relevant right now, but it will be important to remember for later on."
   ]
  },
  {
   "cell_type": "markdown",
   "metadata": {},
   "source": [
    "## FROM Clause\n",
    "\n",
    "This is where we specify from what we are selecting, and the pattern that it must follow. We'll start off simple with just selecting one type of Vertex.\n",
    "\n",
    "**Pattern:**\n",
    "```\n",
    "source_vertex_set = {vertex_type.*}\n",
    "result_vertex_set = SELECT alias_vertex_set FROM source_vertex_set:alias_vertex_set\n",
    "```\n",
    "\n",
    "**Example:** \n",
    "```\n",
    "start = {Inventor.*};\n",
    "result = SELECT s FROM start:s;\n",
    "```"
   ]
  },
  {
   "cell_type": "markdown",
   "metadata": {},
   "source": [
    "### Specifying a vertex_set\n",
    "\n",
    "Let's take a look at this more closely. Before the SELECT statement is the line `start = {Inventor.*}`. This line is declaring a vertex_set. It is needed because our SELECT statement needs a *source_vertex_set*.\n",
    "\n",
    "`Inventor.*` specifies all vertices of type Inventor, and wrapping a collection of vertices in `{}` converts it into a vertex_set.\n",
    "\n",
    "We then use that `start` vertex_set as the source_vertex_set in the SELECT statement. `start:s` means that we are assigning the alias `s` to the *vertex_set* `start` for the duration of the SELECT statement. Any time we are referring to `s` we are referring to the contents of the `start` vertex_set, which, in this case is all of our Inventor vertices.\n",
    "\n",
    "`SELECT s` means that we are selecting the vertex set by the alias `s` and assigning that to our result_vertex_set. The result of this query will be a vertex_set containing all the vertices in the `start` vertex_set, which is again, all of our Inventor vertices.\n",
    "\n",
    "Technically we don't need a SELECT statement for an operation like this. `start` is already a vertex_set containing all Inventor vertices which is what our SELECT will output. Let's take a look at pattern matching to get the most value out of the SELECT statement."
   ]
  },
  {
   "cell_type": "markdown",
   "metadata": {},
   "source": [
    "### Pattern Matching\n",
    "\n",
    "**Pattern:**\n",
    "```\n",
    "source_vertex_set = {vertex_type.*}\n",
    "result_vertex_set = SELECT alias_vertex_set FROM source_vertex_set:alias_vertex_set - (edge_type:edge_type_alias) - destination_vertex_type:destination_alias\n",
    "```\n",
    "\n",
    "**Example:** \n",
    "```\n",
    "start = {Inventor.*};\n",
    "result = SELECT a FROM start:s - (filed_application:f) - Application:a;\n",
    "```\n",
    "\n",
    "This example SELECT will return a vertex_set of Application vertices.\n",
    "\n",
    "Let's take a more in-depth look at the syntax of what's going on here.\n",
    "\n",
    "`start:s` - we've seen this before, that's just letting us know what we're starting with our start vertex_set\n",
    "<br>\n",
    "` - (filed_application:f) - Application:a` - This is an edge traversal \n",
    "\n",
    " ` - () - ` is the pattern for the edge traversal on either side of the pattern are the source and destination vertex_sets and their aliases, in the center of the `()` is the edge_type and edge_type_alias.\n",
    "\n",
    " I'm going to strip out the aliases from the example and we'll further investigate what exactly is going on. Remember that `start` is the same as all Inventor vertices.\n",
    "\n",
    " `start - (filed_application) - Application`\n",
    "\n",
    " We're starting from any **Inventor** vertex, and following any **filed_application** edges connected to those vertices that also destination in an **Application** vertex. This query is traversing the **filed_application** edge between the **Inventor** vertex_type and the **Application** vertex_type."
   ]
  },
  {
   "cell_type": "markdown",
   "metadata": {},
   "source": [
    "The aliases in the query are optional except for one. That one can be in any *vertex_set* spot and represents the selection set that you are trying to capture.\n",
    "\n",
    "For example:\n",
    "\n",
    "- `SELECT s FROM start:s - (filed_application) - Application` - will SELECT the vertex_set of Inventors\n",
    "- `SELECT a FROM start - (filed_application) - Application:a` - will SELECT the vertex_set of Applications connected via filed_application edges to the start set of Inventors\n",
    "- `SELECT e FROM start - (filed_application:e) - Application` - is NOT VALID because the result of a SELECT statement must be vertex_set, and e is an alias for an edge_set\n",
    "\n",
    "This on it's own isn't the most useful. Again, we could just make a vertex_set of `{Application.*}` to get all Application vertices, but this is the core building block of all of our future queries."
   ]
  },
  {
   "cell_type": "markdown",
   "metadata": {},
   "source": [
    "## WHERE Clause\n",
    "\n",
    "With what we know so far, we've just been selecting all of a particular type of vertex. The WHERE clause will allow us to filter our selections and begin to do some of our proper graph work\n",
    "\n",
    "**Pattern:**\n",
    "```\n",
    "result_vertex_set = SELECT alias_vertex_set FROM source_vertex_set:alias_vertex_set WHERE alias_vertex_set.attribute == comparison_value\n",
    "```\n",
    "\n",
    "**Example:** \n",
    "```\n",
    "start = {Inventor.*};\n",
    "result = SELECT s FROM start:s WHERE s.first == \"Joseph\";\n",
    "```\n",
    "\n",
    "We're not limited to just `==` here, make sure to [check out the documentation](https://docs.tigergraph.com/gsql-ref/current/querying/select-statement/readme#_where_clause) to see the different comparison operators that you can use to interface with different types of values.\n",
    "\n",
    "The above example is pretty straightforward, we start with a vertex_set of all Inventors, then from that vertex_set select any Inventors where their *first* attribute is equal to the string \"Joseph\". This is handy for filtering our Inventors, but what if we only want to query applications submitted by Inventors with the first name Joseph?\n",
    "\n",
    "```\n",
    "start = {Inventor.*};\n",
    "result = SELECT a FROM start:s - () - Application:a\n",
    "    WHERE s.first == \"Joseph\";\n",
    "```\n",
    "\n",
    "The above SELECT statement does just that. `result` will be equal to a vertex_set containing any Application vertices that are connected to an Inventor vertex whose `first` attribute is equal to \"Joseph\". Let's see it in action."
   ]
  },
  {
   "cell_type": "code",
   "execution_count": null,
   "metadata": {},
   "outputs": [],
   "source": [
    "conn.runInterpretedQuery(\"\"\"\n",
    "INTERPRET QUERY joseph_applications() FOR GRAPH Patents {\n",
    "    start = {Inventor.*};\n",
    "    result = SELECT a FROM start:s - () - Application:a\n",
    "        WHERE s.first == \"Joseph\";\n",
    "    \n",
    "    PRINT result;\n",
    "}\n",
    "\"\"\")"
   ]
  },
  {
   "cell_type": "markdown",
   "metadata": {},
   "source": [
    "That's good, we're printing the vertex_set of Application vertices, but what if we also want to see the list of Inventor vertices where `first` == \"Joseph\"? Let's try what seems like it would work at first. (you're supposed to get an error here)"
   ]
  },
  {
   "cell_type": "code",
   "execution_count": null,
   "metadata": {},
   "outputs": [],
   "source": [
    "conn.runInterpretedQuery(\"\"\"\n",
    "INTERPRET QUERY joseph_applications() FOR GRAPH Patents {\n",
    "    start = {Inventor.*};\n",
    "    result = SELECT a FROM start:s - () - Application:a\n",
    "        WHERE s.first == \"Joseph\";\n",
    "    \n",
    "    PRINT result;\n",
    "    PRINT s;\n",
    "}\n",
    "\"\"\")"
   ]
  },
  {
   "cell_type": "markdown",
   "metadata": {},
   "source": [
    "`An undefined variable s in current scope` - **Our vertex_set_aliases are only available within the body of the SELECT statement.**\n",
    "\n",
    "That is important. The `PRINT s` statement is after the SELECT statement, not within it, so `s` is no longer available. Moving the PRINT inside the SELECT does not work and would not be recommended anyway.\n",
    "\n",
    "This is because `s` refers to an individual vertex from within the `start` vertex_set. Think of the SELECT statement like a big for loop over the source_vertex_set. It's a much more complicated and parallelized process than that.\n",
    "\n",
    "To distill it down to it's simplest form, **the SELECT is a for loop over any edges matching the pattern specified in the FROM statement**.\n",
    "\n",
    "Each instance of a vertex_set_alias (`s` or `a` in our example) represents the Vertex or Edge at a given point in the pattern for a particular match of the pattern.\n",
    "\n",
    "In the example `s` will always be an Inventor vertex with the first name of Joseph, and `a` will always be an Application vertex connected by an edge to a `s` vertex.\n",
    "\n",
    "To prove this, and to answer the initial question of listing our Inventors named Joseph as well as any matching Applications, we have to introduce our next clause."
   ]
  },
  {
   "cell_type": "markdown",
   "metadata": {},
   "source": [
    "## ACCUM Clauses\n",
    "\n",
    "Here is where we get to really start having some fun. Accumulators are one of the most powerful (and satisfying) tools the GSQL query language has to offer.\n",
    "\n",
    "Remember how I said that the SELECT is a big for loop? Accumulators essentially provide functionality per iteration of that for loop. That doesn't sound very sophisticated, but remember that this for loop is actually massively parallel and most of our \"loops\" are actually run simultaneously across multiple threads.\n",
    "\n",
    "Let's take a simple look and see how we can count how many Applications matching a Joseph we retrieve."
   ]
  },
  {
   "cell_type": "code",
   "execution_count": 22,
   "metadata": {},
   "outputs": [
    {
     "data": {
      "text/plain": [
       "[{'num_Applications': 30}]"
      ]
     },
     "execution_count": 22,
     "metadata": {},
     "output_type": "execute_result"
    }
   ],
   "source": [
    "conn.runInterpretedQuery(\"\"\"\n",
    "INTERPRET QUERY accumulators() FOR GRAPH Patents {\n",
    "    \n",
    "    SumAccum<INT> @@applications;\n",
    "  \n",
    "    start = {Inventor.*};\n",
    "    result = SELECT a FROM start:s - () - Application:a\n",
    "        WHERE s.first == \"Joseph\"\n",
    "        ACCUM\n",
    "            @@applications += 1;\n",
    "    \n",
    "    PRINT @@applications AS num_Applications;\n",
    "}\n",
    "\"\"\")"
   ]
  },
  {
   "cell_type": "markdown",
   "metadata": {},
   "source": [
    "### Global Accumulators\n",
    "\n",
    "We have some new bits of code to talk about here, but it's all pretty straightforward.\n",
    "\n",
    "`SumAccum<INT> @@applications;` - This line is just declaring our accumulator. Let's break it down.\n",
    "\n",
    "- `SumAccum` - the type of accumulator (see all types [here](https://docs.tigergraph.com/gsql-ref/current/querying/accumulators))\n",
    "- `<INT>` - the type that the accumulator stores\n",
    "- `@@applications` - the name of the accumulator. **Global accumulators start with `@@` local accumulators start with `@`** (will explain later)\n",
    "\n",
    "What we can now tell is that we're creating a Global SumAccumulator that stores integers and is named `@@applications`. (a sum accumulator just stores the sum of all the values that are added to it)"
   ]
  },
  {
   "cell_type": "markdown",
   "metadata": {},
   "source": [
    "To actually add values to that accumulator, we need to reference it from within an ACCUM clause in our SELECT statement. For our example, that looks like this:\n",
    "```\n",
    "ACCUM\n",
    "    @@applications += 1;\n",
    "```\n",
    "\n",
    "- `ACCUM` - signifies that what comes next is an accumulator operation\n",
    "- `@@applications += 1;` - is the actual accumulation operation\n",
    "\n",
    "In this case, for each edge matching the pattern, we are adding a value of `1` to our `@@applications` accumulator. Because of this, we would not be able to count our Josephs with a SumAccum.\n",
    "\n",
    "Let's explore how we would do that."
   ]
  },
  {
   "cell_type": "code",
   "execution_count": 23,
   "metadata": {},
   "outputs": [
    {
     "data": {
      "text/plain": [
       "[{'num_Applications': 30}, {'num_Inventors': 28}]"
      ]
     },
     "execution_count": 23,
     "metadata": {},
     "output_type": "execute_result"
    }
   ],
   "source": [
    "conn.runInterpretedQuery(\"\"\"\n",
    "INTERPRET QUERY accumulators() FOR GRAPH Patents {\n",
    "    \n",
    "    SumAccum<INT> @@applications;\n",
    "    SetAccum<Vertex<Inventor>> @@inventors;\n",
    "  \n",
    "    start = {Inventor.*};\n",
    "    result = SELECT a FROM start:s - () - Application:a\n",
    "        WHERE s.first == \"Joseph\"\n",
    "        ACCUM\n",
    "            @@applications += 1,\n",
    "            @@inventors += s;\n",
    "    \n",
    "    PRINT @@applications AS num_Applications;\n",
    "    PRINT @@inventors.size() AS num_Inventors;\n",
    "}\n",
    "\"\"\")"
   ]
  },
  {
   "cell_type": "markdown",
   "metadata": {},
   "source": [
    "This all follows the same format as our SumAccum, except we're using a SetAccum. A SetAccum stores only unique values of it's specified type.\n",
    "\n",
    "In this case we are setting our SetAccum to only accept Vertices of the vertex type Inventor. That's what `<Vertex<Inventor>>` is specifying. Technically we don't need to specify the specific vertex type (`<Vertex>` is valid) but it will prevent us from accidentally adding unwanted vertices to an accumulator should we make a mistake when writing a query.\n",
    "\n",
    "Lastly, `.size()` gets the number of entries in the SetAccum. "
   ]
  },
  {
   "cell_type": "markdown",
   "metadata": {},
   "source": [
    "### Local Accumulators\n",
    "\n",
    "What happens now if we want to group any applications that a Joseph has submitted with the Inventor who submitted them? Local accumulators are accumulators that \"attach\" to a vertex for the duration of a query. Essentially the accumulator will be referenced like an attribute on the vertex it is linked to."
   ]
  },
  {
   "cell_type": "code",
   "execution_count": null,
   "metadata": {},
   "outputs": [],
   "source": [
    "conn.runInterpretedQuery(\"\"\"\n",
    "INTERPRET QUERY local_accumulators() FOR GRAPH Patents {\n",
    "    \n",
    "    SetAccum<Vertex<Application>> @applications;\n",
    "  \n",
    "    start = {Inventor.*};\n",
    "    result = SELECT s FROM start:s - () - Application:a\n",
    "        WHERE s.first == \"Joseph\"\n",
    "        ACCUM\n",
    "            s.@applications += a;\n",
    "    \n",
    "    PRINT result;\n",
    "}\n",
    "\"\"\")"
   ]
  },
  {
   "cell_type": "markdown",
   "metadata": {},
   "source": [
    "The local accumulator is declared just like the global one except with only one `@` symbol before the variable name.\n",
    "\n",
    "Because this accumulator is linked to a vertex or edge, we need to specify that when we add a value to it. This is done by referencing the accumulator as if it were an attribute of the vertex or edge it is attached to. `s.@applications`\n",
    "\n",
    "From the query output, we can see that `@application` is printed as if it is an attribute of the element it is attached to. We can also see that it lists the vertex_id of any vertex that has been added to it.\n",
    "\n",
    "There are many different types of accumulators to explore, so I highly recommend you check them out in our [documentation](https://docs.tigergraph.com/gsql-ref/current/querying/accumulators)."
   ]
  },
  {
   "cell_type": "markdown",
   "metadata": {},
   "source": [
    "## POST-ACCUM Clause\n",
    "\n",
    "POST-ACCUM is like ACCUM, but slightly different. You know how ACCUM is like a for loop over each edge that matches the patter? Well POST-ACCUM is a for loop over each vertex. This is necessary for certain scenarios where you only want an operation to take place once per vertex, such as an update or deletion of the vertex.\n",
    "\n",
    "Let's take a look at ACCUM and POST-ACCUM side by side to see the difference."
   ]
  },
  {
   "cell_type": "code",
   "execution_count": 31,
   "metadata": {},
   "outputs": [
    {
     "data": {
      "text/plain": [
       "[{'@@accum_inventors': 30}, {'@@post_accum_inventors': 28}]"
      ]
     },
     "execution_count": 31,
     "metadata": {},
     "output_type": "execute_result"
    }
   ],
   "source": [
    "conn.runInterpretedQuery(\"\"\"\n",
    "INTERPRET QUERY post_accumulators() FOR GRAPH Patents {\n",
    "    \n",
    "    SumAccum<INT> @@accum_inventors;\n",
    "    SumAccum<INT> @@post_accum_inventors;\n",
    "  \n",
    "    start = {Inventor.*};\n",
    "    result = SELECT s FROM start:s - () - Application:a\n",
    "        WHERE s.first == \"Joseph\"\n",
    "        ACCUM\n",
    "            @@accum_inventors += 1\n",
    "        POST-ACCUM\n",
    "            @@post_accum_inventors += 1;\n",
    "    \n",
    "    PRINT @@accum_inventors;\n",
    "    PRINT @@post_accum_inventors;\n",
    "}\n",
    "\"\"\")"
   ]
  },
  {
   "cell_type": "markdown",
   "metadata": {},
   "source": [
    "You can see that the values for the two accumulators differ based on where they were called. Additionally, you cannot read the value of an accumulator from within and ACCUM statement. If you are looking to read the values of accumulators set in the ACCUM clause, you will need to do that in the POST-ACCUM clause."
   ]
  },
  {
   "cell_type": "markdown",
   "metadata": {},
   "source": [
    "## HAVING Clause\n",
    "\n",
    "This is a quick one. The HAVING clause is basically another WHERE clause that is able to filter on the values of accumulators. Because the HAVING clause takes place after the ACCUM and POST-ACCUM clauses, it can access the values of accumulators."
   ]
  },
  {
   "cell_type": "code",
   "execution_count": null,
   "metadata": {},
   "outputs": [],
   "source": [
    "conn.runInterpretedQuery(\"\"\"\n",
    "INTERPRET QUERY having_clause() FOR GRAPH Patents {\n",
    "    \n",
    "    SumAccum<INT> @applications;\n",
    "  \n",
    "    start = {Inventor.*};\n",
    "    result = SELECT s FROM start:s - () - Application:a\n",
    "        WHERE s.first == \"Joseph\"\n",
    "        ACCUM\n",
    "            s.@applications += 1\n",
    "        HAVING\n",
    "            s.@applications > 1;\n",
    "    \n",
    "    PRINT result;\n",
    "}\n",
    "\"\"\")"
   ]
  },
  {
   "cell_type": "markdown",
   "metadata": {},
   "source": [
    "The above query uses a Local SumAccum (`@applications`) to keep track of the number of applications that an Inventor has published, and then the HAVING statement filters down the results_vertex_set to only include Inventors where their application count is more than one."
   ]
  },
  {
   "cell_type": "markdown",
   "metadata": {},
   "source": [
    "## ORDER BY Clause\n",
    "\n",
    "One of the consequences of doing the SELECT statement massively in parallel is that we don't know what order vertices or edges will be processed in. Because of this, running a query multiple times may result in the order of vertices or edges in your output being different each run.\n",
    "\n",
    "To counter this, we can use the ORDER BY clause. This clause will allow us to order the results_vertex_set based on multiple sorting criteria. Let's have a look."
   ]
  },
  {
   "cell_type": "code",
   "execution_count": null,
   "metadata": {},
   "outputs": [],
   "source": [
    "conn.runInterpretedQuery(\"\"\"\n",
    "INTERPRET QUERY order_by() FOR GRAPH Patents {\n",
    "    \n",
    "    SumAccum<INT> @applications;\n",
    "  \n",
    "    start = {Inventor.*};\n",
    "    result = SELECT s FROM start:s - () - Application:a\n",
    "        WHERE s.first == \"Joseph\"\n",
    "        ACCUM\n",
    "            s.@applications += 1\n",
    "        ORDER BY\n",
    "            s.@applications DESC, s.last ASC;\n",
    "    \n",
    "    PRINT result;\n",
    "}\n",
    "\"\"\")"
   ]
  },
  {
   "cell_type": "markdown",
   "metadata": {},
   "source": [
    "The above query will return a vertex_set of Inventors named Joseph ordered by how many applications they have filed, and secondarily ordered alphabetically by last name.\n",
    "\n",
    "ORDER BY is needed for our next clause."
   ]
  },
  {
   "cell_type": "markdown",
   "metadata": {},
   "source": [
    "## LIMIT Clause\n",
    "\n",
    "Exactly like it's name implies, the LIMIT clause sets the maximum limit on vertices that will be allowed in the results_vertex_set. Like we discussed before, without an ORDER BY clause, the output order of a query is random. Putting a limit on that randomly ordered set would result in random vertices being included each time the query is run. This is why ORDER BY is highly recommended in order to use the LIMIT clause."
   ]
  },
  {
   "cell_type": "code",
   "execution_count": null,
   "metadata": {},
   "outputs": [],
   "source": [
    "conn.runInterpretedQuery(\"\"\"\n",
    "INTERPRET QUERY limit_offset() FOR GRAPH Patents {\n",
    "    \n",
    "    SumAccum<INT> @applications;\n",
    "  \n",
    "    start = {Inventor.*};\n",
    "    result = SELECT s FROM start:s - () - Application:a\n",
    "        WHERE s.first == \"Joseph\"\n",
    "        ACCUM\n",
    "            s.@applications += 1\n",
    "        ORDER BY\n",
    "            s.@applications DESC, s.last ASC\n",
    "        LIMIT 3;\n",
    "    \n",
    "    PRINT result;\n",
    "}\n",
    "\"\"\")"
   ]
  },
  {
   "cell_type": "markdown",
   "metadata": {},
   "source": [
    "As we can see only 3 results are returned, because we have set the LIMIT to 3. The LIMIT clause also has a neat built in feature to make operations like pagination easy."
   ]
  },
  {
   "cell_type": "markdown",
   "metadata": {},
   "source": [
    "### LIMIT with OFFSET\n",
    "\n",
    "The LIMIT clause also allows you to specify an offset after which to start the limit. For example, the query above printed the top 3 Inventors from our set, but what if I wanted to see the 3 next inventors on the list?"
   ]
  },
  {
   "cell_type": "code",
   "execution_count": null,
   "metadata": {},
   "outputs": [],
   "source": [
    "conn.runInterpretedQuery(\"\"\"\n",
    "INTERPRET QUERY limit_offset() FOR GRAPH Patents {\n",
    "    \n",
    "    SumAccum<INT> @applications;\n",
    "  \n",
    "    start = {Inventor.*};\n",
    "    result = SELECT s FROM start:s - () - Application:a\n",
    "        WHERE s.first == \"Joseph\"\n",
    "        ACCUM\n",
    "            s.@applications += 1\n",
    "        ORDER BY\n",
    "            s.@applications DESC, s.last ASC\n",
    "        LIMIT 3 OFFSET 3;\n",
    "    \n",
    "    PRINT result;\n",
    "}\n",
    "\"\"\")"
   ]
  },
  {
   "cell_type": "markdown",
   "metadata": {},
   "source": [
    "That's all it takes, the additional OFFSET specifies which place in the results_vertex_set that the limit will start at. You can also represent the OFFSET as just part of the LIMIT clause. For example, `LIMIT 3, 3` is identical to `LIMIT 3 OFFSET 3`."
   ]
  },
  {
   "cell_type": "markdown",
   "metadata": {},
   "source": [
    "## Query Inputs\n",
    "\n",
    "Up until now, all of our queries have been hardcoded to look for \"Joseph\". In the real world, we want that to be a dynamic input, to not just be limited to one word per query. Just like functions in your favorite programming language, GSQL queries can have inputs. These inputs can be any of the [data types](https://docs.tigergraph.com/gsql-ref/current/querying/data-types) that TigerGraph supports.\n",
    "\n",
    "Let's make a String input for the first name that we want to search on our Inventors."
   ]
  },
  {
   "cell_type": "code",
   "execution_count": 55,
   "metadata": {},
   "outputs": [
    {
     "data": {
      "text/plain": [
       "[{'result': [{'v_id': 'Samuel,Danishefsky J',\n",
       "    'v_type': 'Inventor',\n",
       "    'attributes': {'id': 'Samuel,Danishefsky J',\n",
       "     'first': 'Samuel',\n",
       "     'middle': 'J',\n",
       "     'last': 'Danishefsky'}},\n",
       "   {'v_id': 'Samuel,Tenembaum Sergio',\n",
       "    'v_type': 'Inventor',\n",
       "    'attributes': {'id': 'Samuel,Tenembaum Sergio',\n",
       "     'first': 'Samuel',\n",
       "     'middle': 'Sergio',\n",
       "     'last': 'Tenembaum'}},\n",
       "   {'v_id': 'Samuel,Brodor ',\n",
       "    'v_type': 'Inventor',\n",
       "    'attributes': {'id': 'Samuel,Brodor ',\n",
       "     'first': 'Samuel',\n",
       "     'middle': '',\n",
       "     'last': 'Brodor'}}]}]"
      ]
     },
     "execution_count": 55,
     "metadata": {},
     "output_type": "execute_result"
    }
   ],
   "source": [
    "inputName = \"Samuel\"\n",
    "\n",
    "conn.runInterpretedQuery(\"\"\"\n",
    "INTERPRET QUERY named_applications(STRING inName) FOR GRAPH Patents {\n",
    "    start = {Inventor.*};\n",
    "    result = SELECT s FROM start:s\n",
    "        WHERE s.first == inName\n",
    "        LIMIT 3;\n",
    "    \n",
    "    PRINT result;\n",
    "}\n",
    "\"\"\",\n",
    "    params={ \"inName\": inputName }\n",
    ")"
   ]
  },
  {
   "cell_type": "markdown",
   "metadata": {},
   "source": [
    "The first thing to notice here is that we now have our input definition within the `()` after the query name. This definition is straightforward, `variable_type variable_name` followed by a comma and additional inputs if any. That input name will now be available as a variable within the context of this query. You can call this variable like you would in any language.\n",
    "\n",
    "We also need to specify the input in our `conn.runInterpretedQuery()` function. That function actually has two inputs even though we had only been using the query body input so far. The second input is used to feed in query inputs or `params`. \n",
    "\n",
    "It's easiest to structure these params as a dictionary of **query_input_name: input_value**. You can see this in the above example.\n",
    "\n",
    "Feel free to change up the `inputName` and see how that effects the query results."
   ]
  },
  {
   "cell_type": "markdown",
   "metadata": {},
   "source": [
    "## Multi-hop Patterns\n",
    "\n",
    "So far we have only explored single-hop SELECT statements. These single hops mean that we only traverse one edge in the SELECT. Our previous queries were patterned `Inventor - () - Application` meaning that we traverse the edge between Inventor and Application. Sometimes we want to traverse more than one edge. For example if I want to find all Applications that were filed by and Inventor from a particular City. \n",
    "\n",
    "Application doesn't have an edge that links it directly to a City, but Inventor does. We can start at a City, traverse to any Inventors connected to that City, then traverse to any Applications connected to that Inventor all in one SELECT.\n",
    "\n",
    "The pattern would look like this:\n",
    "`City - () - Inventor - () - Application`"
   ]
  },
  {
   "cell_type": "code",
   "execution_count": null,
   "metadata": {},
   "outputs": [],
   "source": [
    "inputName = \"Boston\"\n",
    "\n",
    "conn.runInterpretedQuery(\"\"\"\n",
    "INTERPRET QUERY named_applications(VERTEX<City> inCity) FOR GRAPH Patents SYNTAX v2 {\n",
    "    \n",
    "    start = {inCity};\n",
    "    result = SELECT a FROM start:s - () - Inventor - () - Application:a;\n",
    "    \n",
    "    PRINT result;\n",
    "}\n",
    "\"\"\", params={ \"inCity\": inputName }\n",
    ")"
   ]
  },
  {
   "cell_type": "markdown",
   "metadata": {},
   "source": [
    "The main thing to note here is that we have to use `SYNTAX v2` and need to specify that after our `FOR GRAPH` declaration. From there we can specify our multi-hop pattern along the same way we specify a single-hop pattern. With the edge names explicitly labeled, this is what the pattern looks like:\n",
    "\n",
    "`start:s - (from_city) - Inventor - (filed_application) - Application:a`\n",
    "\n",
    "Another important line to note here is `start = {inCity}`. You'll note from earlier that our SELECT statement operates on vertex_sets. That means that any time we want to use a vertex input in a SELECT statement, it must be in the vertex_set format. `{}` converts a single vertex or SetAccum of vertices into a vertex_set."
   ]
  },
  {
   "cell_type": "markdown",
   "metadata": {},
   "source": [
    "## Directed Traversals\n",
    "\n",
    "So far we haven't traversed any directional edges. The pattern for directional edges is almost identical to what we've been using so far, but with an added direction specifier. Let's take a look."
   ]
  },
  {
   "cell_type": "code",
   "execution_count": null,
   "metadata": {},
   "outputs": [],
   "source": [
    "conn.runInterpretedQuery(\"\"\"\n",
    "INTERPRET QUERY directional_traversal() FOR GRAPH Patents {\n",
    "\n",
    "    start = {Application.*};\n",
    "\n",
    "    result = SELECT a FROM start:s - (has_parent) -> Application:a;\n",
    "\n",
    "    PRINT result;\n",
    "}\n",
    "\"\"\")"
   ]
  },
  {
   "cell_type": "markdown",
   "metadata": {},
   "source": [
    "The subtle difference here is the ` - () -> ` pattern for traversing a directed edge in it's forward direction. If you were looking traverse the edge in its reverse direction, you would need to specify the reverse edge name if your directed edge has one."
   ]
  },
  {
   "cell_type": "markdown",
   "metadata": {},
   "source": [
    "## Repeated Patterns\n",
    "\n",
    "In the above example, we are looking for the parent Application to an Application. What if we wanted to find the grandparent, or great-grandparent? We could just keep writing out the pattern for the desired number of traversals: `start:s - () -> Application - () -> Application:a ...` but that looks sloppy and there's a better way.\n",
    "\n",
    "`start:s - (has_parent>*) -> Application:a` will iterate through each instance of a has_parent edge connected to any Application connected to the start Application by a has_parent edge. The `>` signifies directionality and the `*` is what's telling us to iterate over as many edges as we can. `*3` would specify exactly 3 traversals deep. You can learn more about repeating patterns [here](https://docs.tigergraph.com/gsql-ref/current/tutorials/pattern-matching/repeating-a-pattern). To use repeating patterns, you will need to use `SYNTAX v2`."
   ]
  },
  {
   "cell_type": "markdown",
   "metadata": {},
   "source": [
    "Let's put together what we've learned so far in order to find our Applications with the most levels deep of parent Applications.\n",
    "\n",
    "Our query will need to iterate over each instance of Application and count the number of has_parent edge chains per Application. That value will then need to be stored so that it can be sorted off of. These all sound like things we've done before, so this shouldn't be too hard."
   ]
  },
  {
   "cell_type": "code",
   "execution_count": null,
   "metadata": {},
   "outputs": [],
   "source": [
    "conn.runInterpretedQuery(\"\"\"\n",
    "INTERPRET QUERY count_parents() FOR GRAPH Patents SYNTAX v2{\n",
    "    \n",
    "    SumAccum<INT> @parents;\n",
    "    start = {Application.*};\n",
    "\n",
    "    result = SELECT s FROM start:s - (has_parent>*) - Application:a\n",
    "        ACCUM\n",
    "            s.@parents += 1\n",
    "        ORDER BY\n",
    "            s.@parents DESC\n",
    "        LIMIT 3;\n",
    "\n",
    "    PRINT result;\n",
    "}\n",
    "\"\"\")"
   ]
  },
  {
   "cell_type": "markdown",
   "metadata": {},
   "source": [
    "## The Order of a Query\n",
    "\n",
    "This is something that we touched on briefly when designing the schema. Anything that we might want to filter on come query time should be its own Vertex type. This was due to being able start the query at the filter level and only touch any vertices connected to that filter vertex. \n",
    "\n",
    "I want to write a query that will find the most common USPCClass among all of our Applications. We could start from Application like we have been doing for our previous queries, but here we may benefit by starting from USPCClass. It's possible to have an Application that isn't tied to a USPCClass, but it's impossible to have a USPCClass that isn't connected to an Application. Therefor we effectively skip having to process any Applications that don't have a USPCClass making this order of traversal potentially faster."
   ]
  },
  {
   "cell_type": "code",
   "execution_count": null,
   "metadata": {},
   "outputs": [],
   "source": [
    "conn.runInterpretedQuery(\"\"\"\n",
    "INTERPRET QUERY common_class() FOR GRAPH Patents {\n",
    "\n",
    "    SumAccum<INT> @applications;\n",
    "    start = {USPCClass.*};\n",
    "\n",
    "    result = SELECT s FROM start:s - () - Application:a\n",
    "        ACCUM\n",
    "            s.@applications += 1\n",
    "        ORDER BY\n",
    "            s.@applications DESC;\n",
    "\n",
    "    PRINT result;\n",
    "}\n",
    "\"\"\")"
   ]
  },
  {
   "cell_type": "markdown",
   "metadata": {},
   "source": [
    "## Average Time to Complete an Application\n",
    "\n",
    "Something that we haven't taken a look at yet is working with edge attributes. The *has_code* edge contains a datetime attribute that stores when that EventCode took place. By looking at the difference between the earliest and latest datetime for an Application, we can infer how long it took to process. Let's see what a query to do that looks like."
   ]
  },
  {
   "cell_type": "code",
   "execution_count": null,
   "metadata": {},
   "outputs": [],
   "source": [
    "conn.runInterpretedQuery(\"\"\"\n",
    "INTERPRET QUERY application_time() FOR GRAPH Patents {\n",
    "\n",
    "    MinAccum<DATETIME> @first_date;\n",
    "    MaxAccum<DATETIME> @last_date;\n",
    "    SumAccum<FLOAT> @duration;\n",
    "    AvgAccum @@avg_days;\n",
    "\n",
    "    start = {Application.*};\n",
    "\n",
    "    result = SELECT s FROM start:s - (has_code:e) - EventCode:c\n",
    "        ACCUM\n",
    "            s.@first_date += e.date,\n",
    "            s.@last_date += e.date\n",
    "        POST-ACCUM\n",
    "            INT duration = datetime_diff(s.@last_date, s.@first_date),  //returns time in seconds between 2 dates\n",
    "            FLOAT days = duration/86400.0,  //divides seconds by seconds in a day to convert to days\n",
    "            @@avg_days += days,\n",
    "            s.@duration += days\n",
    "        ORDER BY\n",
    "            s.@duration DESC\n",
    "        LIMIT 5;\n",
    "\n",
    "    PRINT @@avg_days;\n",
    "    PRINT result [result.@duration];\n",
    "}\n",
    "\"\"\")"
   ]
  },
  {
   "cell_type": "markdown",
   "metadata": {},
   "source": [
    "### MinAccum and MaxAccum\n",
    "\n",
    "The first thing you probably noticed in this query where two new accumulators, MinAccum and MaxAccum. These accumulators store the minimum and maximum values fed through them respectively. In this example, we're using them to store the minimum DATETIME (oldest date) and the maximum DATETIME (most recent date) of the dates that an Application's status updates happened on."
   ]
  },
  {
   "cell_type": "markdown",
   "metadata": {},
   "source": [
    "### Vertex Expression Set\n",
    "\n",
    "The other thing you should have noticed was that our result didn't print out every single attribute of Application, but only the `@duration` vertex attached accumulator that we created. This was because of the `PRINT result [result.@duration]` line. The `[]` specifies to only print vertex attributes that exist within that list."
   ]
  },
  {
   "cell_type": "markdown",
   "metadata": {},
   "source": [
    "## Neighbors\n",
    "\n",
    "You don't always need a full pattern matching if you're looking for some basic information about your graph. The `.neighbors()` function will return all vertices connected via an edge to the starting vertex. You can also provide a list of edge types as an input to only select vertices connected via that edge type. Let's see a quick example.\n",
    "\n",
    "One thing to note is that the `neighbors()` function is not available in interpreted mode, so we'll have to install this query."
   ]
  },
  {
   "cell_type": "code",
   "execution_count": 133,
   "metadata": {},
   "outputs": [
    {
     "data": {
      "text/plain": [
       "'Using graph \\'Patents\\'\\nSuccessfully created queries: [neighbors].\\nStart installing queries, about 1 minute ...\\nneighbors query: curl -X GET \\'https://127.0.0.1:9000/query/Patents/neighbors?inCity=VALUE\\'. Add -H \"Authorization: Bearer TOKEN\" if authentication is enabled.\\nSelect \\'m1\\' as compile server, now connecting ...\\nNode \\'m1\\' is prepared as compile server.\\n\\nQuery installation finished.'"
      ]
     },
     "execution_count": 133,
     "metadata": {},
     "output_type": "execute_result"
    }
   ],
   "source": [
    "conn.gsql(\"\"\"\n",
    "USE GRAPH Patents\n",
    "CREATE QUERY neighbors(VERTEX<City> inCity) FOR GRAPH Patents {\n",
    "    BagAccum<VERTEX> @inventors;\n",
    "    start = {inCity};\n",
    "\n",
    "    result = SELECT s FROM start:s\n",
    "        POST-ACCUM\n",
    "            s.@inventors = s.neighbors([\"from_city\"]);\n",
    "    \n",
    "    PRINT result;\n",
    "}\n",
    "INSTALL QUERY neighbors\n",
    "\"\"\")"
   ]
  },
  {
   "cell_type": "code",
   "execution_count": null,
   "metadata": {},
   "outputs": [],
   "source": [
    "inputName = \"Paris\"\n",
    "\n",
    "conn.runInstalledQuery(\"neighbors\", params={ \"inCity\": inputName })"
   ]
  },
  {
   "cell_type": "markdown",
   "metadata": {},
   "source": [
    "## Inventor - Attorney Pairings\n",
    "\n",
    "Let's see if any Inventors' Applications frequently get paired up with the same Attorney. "
   ]
  },
  {
   "cell_type": "code",
   "execution_count": null,
   "metadata": {},
   "outputs": [],
   "source": [
    "conn.runInterpretedQuery(\"\"\"\n",
    "INTERPRET QUERY pairings() FOR GRAPH Patents SYNTAX v2 {\n",
    "    TYPEDEF TUPLE <VERTEX<Attorney> attorney, INT cnt> attorneyCount;\n",
    "\n",
    "    HeapAccum<attorneyCount>(200, cnt DESC) @attorneys;\n",
    "    MapAccum<VERTEX<Attorney>, SumAccum<INT>> @attorney_map;\n",
    "    SumAccum<INT> @tot_attorneys;\n",
    "    start = {Inventor.*};\n",
    "\n",
    "    results = SELECT i FROM start:i - () - Application:a - () - Attorney:t\n",
    "        ACCUM\n",
    "            i.@attorney_map += (t -> 1),\n",
    "            i.@tot_attorneys += 1\n",
    "        POST-ACCUM\n",
    "            FOREACH (atty, ct) IN i.@attorney_map DO\n",
    "                i.@attorneys += attorneyCount(atty, ct)\n",
    "            END\n",
    "        ORDER BY \n",
    "            i.@tot_attorneys DESC;\n",
    "\n",
    "    PRINT results [results.@attorneys, results.@tot_attorneys];\n",
    "}\n",
    "\"\"\")"
   ]
  }
 ],
 "metadata": {
  "interpreter": {
   "hash": "aee8b7b246df8f9039afb4144a1f6fd8d2ca17a180786b69acc140d282b71a49"
  },
  "kernelspec": {
   "display_name": "Python 3.9.7 64-bit",
   "language": "python",
   "name": "python3"
  },
  "language_info": {
   "codemirror_mode": {
    "name": "ipython",
    "version": 3
   },
   "file_extension": ".py",
   "mimetype": "text/x-python",
   "name": "python",
   "nbconvert_exporter": "python",
   "pygments_lexer": "ipython3",
   "version": "3.9.7"
  },
  "orig_nbformat": 4
 },
 "nbformat": 4,
 "nbformat_minor": 2
}
