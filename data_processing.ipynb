{
 "cells": [
  {
   "cell_type": "code",
   "execution_count": null,
   "metadata": {},
   "outputs": [],
   "source": [
    "!head -10 ./raw_data/all_inventors.csv"
   ]
  },
  {
   "cell_type": "markdown",
   "metadata": {},
   "source": [
    "It's a lot easier to work with samller files when we're setting up our schema. Depending on how thurough you are with your initial data investigation or how well you know your dataset, you most likely won't nail your schema on the first shot. Sometimes this will involve having to change the format or re-structure the data files. It's a lot easier and faster to do this with a ~10MB file than a ~11GB one."
   ]
  },
  {
   "cell_type": "code",
   "execution_count": 33,
   "metadata": {},
   "outputs": [],
   "source": [
    "import os\n",
    "\n",
    "# specify data folders\n",
    "data_folder = \"./raw_data\"\n",
    "output_folder = \"./processed_data\"\n",
    "\n",
    "# How many lines do we want in the stripped down files\n",
    "numLines = 10000\n",
    "\n",
    "# Go through all the files in the data folder\n",
    "for root, dirs, files in os.walk(data_folder):\n",
    "    # Make the output folder if it doesn't exist\n",
    "    if not os.path.exists(output_folder):\n",
    "        os.mkdir(output_folder)\n",
    "    for fi in files:\n",
    "        filepath = os.path.join(root,fi)\n",
    "        # Create an output file with '10K_' before the file name (change this if you're using a different # than 10,000)\n",
    "        outputFile = open(os.path.join(output_folder,(\"10K_\"+fi)),'w+')\n",
    "        # for each datafile\n",
    "        with open(filepath) as dataFile:\n",
    "            # go through each line in the file until we hit numLines\n",
    "            try: \n",
    "                head = [next(dataFile) for x in range(numLines)]\n",
    "                outputFile.writelines(head)\n",
    "            # This will trigger if the file is less than numLines and will just copy the whole file\n",
    "            except StopIteration:\n",
    "                dataFile = open(filepath)\n",
    "                lines = dataFile.readlines()\n",
    "                outputFile.writelines(lines)\n",
    "                outputFile.close()\n",
    "        outputFile.close()"
   ]
  },
  {
   "cell_type": "markdown",
   "metadata": {},
   "source": [
    "Now that we have paired down versions of our files, let's take a look at what we're actually working with. Below we'll print out each file name as well as its header."
   ]
  },
  {
   "cell_type": "code",
   "execution_count": null,
   "metadata": {},
   "outputs": [],
   "source": [
    "# go through the files in the output folder\n",
    "for root, dirs, files in os.walk(output_folder):\n",
    "    for fi in files:\n",
    "        filepath = os.path.join(root,fi)\n",
    "        with open(filepath) as dataFile:\n",
    "            # Print filename and first 2 lines (header + 1st row of data)\n",
    "            print(fi)\n",
    "            print(dataFile.readline(),dataFile.readline())"
   ]
  },
  {
   "cell_type": "markdown",
   "metadata": {},
   "source": [
    "This next step is the most important. Now that we are aware of what our data is, we need to understand what the concepts are that it is talking about. This process typically involves some sort of domain knowledge on your data, so make sure you have Google ready for any terms that you aren't familiar with.\n",
    "\n",
    "Let's walk through each of the files from our patent dataset and try to figure out what they're referencing and what the Entities are that we want to represent with our graph."
   ]
  },
  {
   "cell_type": "markdown",
   "metadata": {},
   "source": [
    "`all_inventors` As the name implies, we can assume that this file contains information about the inventors who will be mentioned in the patnets.\n",
    "\n",
    "application_number,inventor_name_first,inventor_name_middle,inventor_name_last,inventor_rank,inventor_city_name,inventor_region_code,inventor_country_code\n",
    " 04840815,WILLIAM,D.,SCHAEFFER,1,POMONA,CA,US"
   ]
  },
  {
   "cell_type": "markdown",
   "metadata": {},
   "source": [
    "Already, we can tell that this list is referencing inventors back to their patent applications. `application_number` is the primary id that the patent applications use and that number ties each one of these inventors back to a patent application. \n",
    "Additionally, we see that the rest of the fields are describing an Inventor. From this first file, we can gather that `application_number` is something that we want to look for in the other files, and that there are a list of attributes that describe Inventor.\n",
    "\n",
    "Let's start building our schema based on what we know.\n",
    "\n",
    "First we need to identify the objects that this file talks about. The first immediate on is **Inventor**. Additionally we know that **Applications** exist due to the reference to `application_number`. In addition to just knowing that **Inventor** exists, we also know a little bit about our **Inventor**s such as their first, middle, and last names as well as the region that they live in. One thing that we do not have for our **Inventor**s is a unique identifier. There's no `inventor_id` or other field that could be used to ensure unique inventors. This is frustrating, and something we'll need to generate ourselves.\n",
    "\n",
    "We can use this info to define our first Vertices in the schema."
   ]
  },
  {
   "cell_type": "markdown",
   "metadata": {},
   "source": [
    "-**Inventor**\n",
    " - id (we have to generate this)\n",
    " - name_first\n",
    " - name_middle\n",
    " - name_last\n",
    " - inventor_rank\n",
    " - inventor_city\n",
    " - inventor_region\n",
    " - inventor_country\n",
    "\n",
    "-**Application**\n",
    " - application_number\n",
    " That's all we know for now about applications."
   ]
  },
  {
   "cell_type": "markdown",
   "metadata": {},
   "source": [
    "Looking at what we have above we can see that our **Inventor** is actually describing 3 things. The **Inventor** themselves (names), their **Rank** on the patent, and the **Location** that they used at the time of the filing.\n",
    "\n",
    "This is where our domain knowldege will come in a little bit. When filing a patent, the inventors are ordered by how much they contributed to the patent. This is their **Rank**. This **Rank** is unique across each **Application** that an **Inventor** is on. Because of that, it does not make sense to store **Rank** inside of **Inventor** because that will only reflect one particular **Application**.\n",
    "\n",
    "So what do we do here? Let's walk through the possibilites. \n",
    "\n",
    "The first one is that we break off **Rank** as its own Vertex. This seems logical, because an **Inventor** `has_rank` **Rank**. But now let's run this through a theoretical example. \n",
    "![rank schema](images/rank_schema.png)\n",
    "*Inventor 1* has filed two **Applicaiton**s, *Application 1* and *Application 2*. *Inventor 1* is *Rank 1* on the first application and *Rank 2* on the second application. Following the solution outlined above, *Inventor 1* would have two **Rank** vertices attached to them, *Rank 1* and *Rank 2*. However, there's nothing that would tie either *Rank 1* or *Rank 2* to a particular **Application**. So finding the **Rank** of *Inventor 1* on *Application 1* would return both *Rank 1* and *Rank 2*. \n",
    "![](images/rank_1.png)\n",
    "![](images/rank_1_1.png)\n",
    "Okay then, so let's also tie our **Rank** to **Application**. Now *Inventor 1* `has_application` *Application 1*. *Applicaiton 1* `has_inventor_rank' *Rank 1* and *Rank 1* also ties back to *Inventor 1*\n",
    "![](images/rank_2_1.png)\n",
    "This seems like it would work, and it will, but let's see how messy this gets when we consider multiple **Applicaiton**s. Every **Application** will 'has_inventor_rank' *Rank 1* because there has to be at lest one **Inventor** on an **Application**. So if we wanted to find out what **Rank** and **Inventor** was in any given **Application**, our traversal \n",
    "![](images/rank_2_2.png)"
   ]
  },
  {
   "cell_type": "markdown",
   "metadata": {},
   "source": [
    "Luckily, there's a much easier way than all of this. We don't have to limit our information to only our Vertices, we can also store additional data along edges.\n",
    "![](images/rank_3_1.png)\n",
    "Instead of making a Vertex for **Rank**, we can include it as an attribute of the `filed_application` edge. Now, all we need to do is traverse one edge in order to find out not only which **Application** an **Inventor** filed, but also their **Rank** on that application.\n",
    "![](images/rank_3_2.png)"
   ]
  }
 ],
 "metadata": {
  "interpreter": {
   "hash": "40d3a090f54c6569ab1632332b64b2c03c39dcf918b08424e98f38b5ae0af88f"
  },
  "kernelspec": {
   "display_name": "Python 3.8.8 64-bit ('base': conda)",
   "name": "python3"
  },
  "language_info": {
   "codemirror_mode": {
    "name": "ipython",
    "version": 3
   },
   "file_extension": ".py",
   "mimetype": "text/x-python",
   "name": "python",
   "nbconvert_exporter": "python",
   "pygments_lexer": "ipython3",
   "version": "3.8.8"
  },
  "orig_nbformat": 4
 },
 "nbformat": 4,
 "nbformat_minor": 2
}
